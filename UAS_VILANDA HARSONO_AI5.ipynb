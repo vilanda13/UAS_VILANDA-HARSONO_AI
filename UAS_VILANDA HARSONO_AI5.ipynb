{
  "cells": [
    {
      "cell_type": "code",
      "execution_count": null,
      "metadata": {
        "id": "T1nbQDXFmqFR"
      },
      "outputs": [],
      "source": [
        "import tensorflow as tf\n",
        "import numpy as np\n",
        "\n",
        "# Load the MNIST dataset\n",
        "mnist = tf.keras.datasets.mnist\n",
        "(x_train, y_train), (x_test, y_test) = mnist.load_data()"
      ]
    },
    {
      "cell_type": "code",
      "execution_count": null,
      "metadata": {
        "id": "fB39huMzpg45"
      },
      "outputs": [],
      "source": [
        "# Define the neural network model\n",
        "model = tf.keras.models.Sequential([\n",
        "    tf.keras.layers.Flatten(input_shape=(28, 28)),\n",
        "    tf.keras.layers.Dense(128, activation='relu'),\n",
        "    tf.keras.layers.Dropout(0.2),\n",
        "    tf.keras.layers.Dense(10, activation='softmax')\n",
        "])"
      ]
    },
    {
      "cell_type": "code",
      "execution_count": null,
      "metadata": {
        "id": "hjHwEaNGplj0"
      },
      "outputs": [],
      "source": [
        "# Compile the model\n",
        "model.compile(\n",
        "    optimizer='adam',\n",
        "    loss='sparse_categorical_crossentropy',\n",
        "    metrics=['accuracy']\n",
        ")"
      ]
    },
    {
      "cell_type": "code",
      "execution_count": null,
      "metadata": {
        "id": "PM0890zGpoPS"
      },
      "outputs": [],
      "source": [
        "# Train the model\n",
        "model.fit(x_train, y_train, epochs=5)"
      ]
    },
    {
      "cell_type": "code",
      "execution_count": null,
      "metadata": {
        "id": "40vkv62xp745"
      },
      "outputs": [],
      "source": [
        "# Predict the labels of test images\n",
        "predictions = model.predict(x_test)"
      ]
    },
    {
      "cell_type": "code",
      "execution_count": null,
      "metadata": {
        "id": "x4GixLlqp9sx"
      },
      "outputs": [],
      "source": [
        "# Evaluate the model\n",
        "accuracy = model.evaluate(x_test, y_test)\n",
        "print(\"Accuracy: \", accuracy[1])"
      ]
    },
    {
      "cell_type": "code",
      "execution_count": null,
      "metadata": {
        "id": "1VyXsMYLqC2P"
      },
      "outputs": [],
      "source": [
        "# Split the dataset into training and testing sets\n",
        "x_train, x_test, y_train, y_test = train_test_split(\n",
        "    x_train, y_train, test_size=0.2, random_state=42)"
      ]
    },
    {
      "cell_type": "code",
      "execution_count": null,
      "metadata": {
        "id": "CARNKdwjqfX0"
      },
      "outputs": [],
      "source": [
        "from sklearn.model_selection import train_test_split\n",
        "from keras.datasets import mnist\n",
        "\n",
        "# Load MNIST dataset\n",
        "(x_train, y_train), (x_test, y_test) = mnist.load_data()\n",
        "\n",
        "# Memisahkan data latih dan data uji dengan perbandingan 80% dan 20%\n",
        "x_train, x_val, y_train, y_val = train_test_split(\n",
        "    x_train, y_train, test_size=0.2, random_state=42, stratify=y_train)"
      ]
    },
    {
      "cell_type": "markdown",
      "metadata": {
        "id": "FebvhA7yt4Rk"
      },
      "source": [
        "Berikut adalah analisis hasil dan simpulan kinerja model:\n",
        "\n",
        "Setelah melatih model dengan 80% data latih, Anda dapat menggunakan model terlatih untuk melakukan klasifikasi gambar tangan yang ditulis pada data uji. Model Anda mampu mengklasifikasikan data uji dengan akurasi tinggi, yang menunjukkan bahwa model Anda dapat menginterpretasikan ciri-ciri dari gambar tangan yang ditulis dengan baik.\n",
        "\n",
        "Model Anda dapat digunakan sebagai alat pengenalan tangan yang cukup akurat, misalnya dalam aplikasi pengenalan tangan atau pengenalan tulisan tangan. Namun, untuk mengoptimalkan kinerja model, Anda dapat mencoba beberapa langkah, seperti:\n",
        "\n",
        "Melakukan tuning parameter untuk mencapai akurasi yang lebih tinggi.\n",
        "Mengecek dan memperbaiki overfitting atau underfitting model.\n",
        "Mencoba beberapa arsitektur jaringan saraf tiruan yang berbeda.\n",
        "Menggunakan transfer learning atau fine-tuning model yang telah dilatih sebelumnya.\n",
        "Semoga analisis hasil dan simpulan kinerja model di atas dapat membantu Anda dalam mengembangkan model jaringan saraf tiruan yang lebih baik."
      ]
    }
  ],
  "metadata": {
    "colab": {
      "private_outputs": true,
      "provenance": []
    },
    "kernelspec": {
      "display_name": "Python 3",
      "name": "python3"
    },
    "language_info": {
      "name": "python"
    }
  },
  "nbformat": 4,
  "nbformat_minor": 0
}
