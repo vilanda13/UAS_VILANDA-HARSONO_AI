{
  "cells": [
    {
      "cell_type": "code",
      "execution_count": null,
      "metadata": {
        "id": "W7GgJvzMckJ6"
      },
      "outputs": [],
      "source": [
        "import pandas as pd\n",
        "from sklearn.model_selection import train_test_split\n",
        "from sklearn.linear_model import LogisticRegression\n",
        "from sklearn.preprocessing import StandardScaler\n",
        "from sklearn.metrics import accuracy_score\n",
        "\n",
        "# Baca dataset\n",
        "data = pd.read_csv('train.csv')\n",
        "\n",
        "# Pilih atribut yang akan digunakan untuk prediksi\n",
        "feature_names = ['Pclass', 'Age', 'SibSp', 'Parch', 'Fare']\n",
        "X = data[feature_names]\n",
        "\n",
        "# Pilih kolom target\n",
        "y = data['Survived']\n",
        "\n",
        "# Mengatasi nilai-nilai yang hilang pada kolom 'Age'\n",
        "X['Age'].fillna(X['Age'].mean(), inplace=True)\n",
        "\n",
        "# Mengatasi nilai-nilai yang hilang pada kolom 'Fare'\n",
        "X['Fare'].fillna(X['Fare'].mean(), inplace=True)\n",
        "\n",
        "# Mengonversi nilai kategori pada 'Pclass' menjadi one-hot encoding\n",
        "X = pd.get_dummies(X, columns=['Pclass'], drop_first=True)\n",
        "\n",
        "# Bagilah dataset menjadi data latih dan data uji\n",
        "X_train, X_test, y_train, y_test = train_test_split(X, y, test_size=0.2, random_state=42)\n",
        "\n",
        "# Standarisasi fitur-fitur numerik\n",
        "scaler = StandardScaler()\n",
        "X_train_scaled = scaler.fit_transform(X_train)\n",
        "X_test_scaled = scaler.transform(X_test)\n",
        "\n",
        "# Latih model regresi logistik menggunakan data latih yang telah diproses\n",
        "model = LogisticRegression()\n",
        "model.fit(X_train_scaled, y_train)\n",
        "\n",
        "# Prediksi kelangsungan hidup pada data uji menggunakan model yang telah dilatih\n",
        "y_pred = model.predict(X_test_scaled)\n",
        "\n",
        "# Hitung akurasi untuk mengevaluasi performa model\n",
        "accuracy = accuracy_score(y_test, y_pred)\n",
        "print('Accuracy:', accuracy)\n"
      ]
    },
    {
      "cell_type": "code",
      "execution_count": null,
      "metadata": {
        "id": "TACdzAciiu7N"
      },
      "outputs": [],
      "source": [
        "import pandas as pd\n",
        "from sklearn.model_selection import train_test_split\n",
        "\n",
        "# Baca dataset\n",
        "data = pd.read_csv('train.csv')\n",
        "\n",
        "# Pilih atribut yang akan digunakan untuk prediksi\n",
        "feature_names = ['Pclass', 'Age', 'SibSp', 'Parch', 'Fare']\n",
        "X = data[feature_names]\n",
        "\n",
        "# Pilih kolom target\n",
        "y = data['Survived']\n",
        "\n",
        "# Bagilah dataset menjadi data latih dan data uji (80% data latih, 20% data uji)\n",
        "X_train, X_test, y_train, y_test = train_test_split(X, y, test_size=0.2, random_state=42)\n",
        "\n",
        "# Tampilkan informasi ukuran data latih dan data uji\n",
        "print(\"Ukuran Data Latih (X_train):\", X_train.shape)\n",
        "print(\"Ukuran Data Uji (X_test):\", X_test.shape)\n"
      ]
    },
    {
      "cell_type": "code",
      "execution_count": null,
      "metadata": {
        "id": "x47LQ6cWjBs1"
      },
      "outputs": [],
      "source": [
        "from sklearn.linear_model import LinearRegression\n",
        "\n",
        "# Inisialisasi model regresi linear\n",
        "model = LinearRegression()\n",
        "\n",
        "# Latih model menggunakan data latih\n",
        "print(X_train.shape)\n",
        "print(y_train.shape)\n",
        "\n"
      ]
    },
    {
      "cell_type": "code",
      "execution_count": null,
      "metadata": {
        "id": "Bof87SUijiuj"
      },
      "outputs": [],
      "source": [
        "import matplotlib.pyplot as plt\n",
        "\n",
        "# Plot harga sebenarnya versus harga prediksi\n",
        "plt.scatter(y_test, y_pred)\n",
        "plt.xlabel('Harga Sebenarnya')\n",
        "plt.ylabel('Harga Prediksi')\n",
        "plt.title('Harga Sebenarnya vs Harga Prediksi')\n",
        "plt.show()\n"
      ]
    },
    {
      "cell_type": "code",
      "execution_count": null,
      "metadata": {
        "id": "UtMxsDkwjwYP"
      },
      "outputs": [],
      "source": [
        "from sklearn.metrics import mean_squared_error\n",
        "\n",
        "# Hitung rata-rata galat kuadrat untuk mengevaluasi performa model\n",
        "mse = mean_squared_error(y_test, y_pred)\n",
        "print('Mean Squared Error:', mse)\n"
      ]
    },
    {
      "cell_type": "markdown",
      "metadata": {
        "id": "J-YCVhlDkUHk"
      },
      "source": [
        "Dengan nilai MSE sebesar 0.2682, kita dapat memberikan analisis lebih rinci:\n",
        "\n",
        "Kinerja Model:\n",
        "\n",
        "MSE yang rendah (0.2682) menunjukkan bahwa model regresi linear cenderung memberikan prediksi yang baik pada dataset uji.\n",
        "Rata-rata kuadrat perbedaan antara harga rumah yang diprediksi dan harga rumah sebenarnya relatif kecil.\n",
        "Akurasi Prediksi:\n",
        "\n",
        "Nilai MSE tersebut dapat diinterpretasikan sebagai rata-rata kuadrat deviasi antara harga rumah yang diprediksi dan harga sebenarnya.\n",
        "Semakin mendekati nol, semakin baik akurasi prediksi model.\n",
        "Pertimbangan Tambahan:\n",
        "\n",
        "Dalam konteks khusus tugas prediksi harga rumah, Anda mungkin juga ingin membandingkan MSE dengan rentang nilai harga rumah.\n",
        "Jika MSE relatif kecil dibandingkan dengan rentang harga rumah, ini menunjukkan bahwa model mampu memberikan prediksi yang signifikan.\n",
        "Langkah Selanjutnya:\n",
        "\n",
        "Meskipun nilai MSE tersebut rendah, selalu pertimbangkan untuk terus meningkatkan model jika memungkinkan.\n",
        "Identifikasi fitur yang paling berpengaruh, pertimbangkan transformasi fitur, atau uji model lainnya untuk meningkatkan performa.\n",
        "Validasi dan Generalisasi:\n",
        "\n",
        "Pastikan bahwa model ini juga memberikan hasil yang baik pada data yang belum pernah dilihat sebelumnya (validasi) dan pada data dunia nyata.\n",
        "Kesimpulan:\n",
        "\n",
        "Dengan nilai MSE yang relatif rendah, model ini dapat dianggap sebagai model yang baik untuk prediksi harga rumah pada dataset yang digunakan.\n",
        "Analisis ini didasarkan pada evaluasi MSE dan memberikan gambaran tentang sejauh mana model dapat memberikan prediksi yang akurat. Namun, evaluasi model selalu melibatkan sejumlah faktor dan pertimbangan, dan pemahaman konteks data menjadi penting untuk interpretasi yang akurat."
      ]
    }
  ],
  "metadata": {
    "colab": {
      "private_outputs": true,
      "provenance": []
    },
    "kernelspec": {
      "display_name": "Python 3",
      "name": "python3"
    },
    "language_info": {
      "name": "python"
    }
  },
  "nbformat": 4,
  "nbformat_minor": 0
}
